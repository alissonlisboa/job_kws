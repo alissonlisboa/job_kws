{
 "cells": [
  {
   "cell_type": "code",
   "execution_count": 1,
   "metadata": {},
   "outputs": [],
   "source": [
    "from bs4 import BeautifulSoup\n",
    "import requests\n",
    "import pandas as pd\n",
    "import numpy as np\n",
    "from collections import Counter\n",
    "import math"
   ]
  },
  {
   "cell_type": "markdown",
   "metadata": {},
   "source": [
    "- [x] Capturar Número de Vagas\n",
    "- [x] Criar lista de links\n",
    "- [x] Criar lista com descrições vagas\n",
    "- [x] transformar em um DataFrame\n",
    "- [x] Calcular tf_idf de palavras por vaga\n",
    "- [ ] Recomendar 10 melhores vagas a partir de palavras-chave inseridas pelo usuario"
   ]
  },
  {
   "cell_type": "markdown",
   "metadata": {},
   "source": [
    "# Get number of jobs"
   ]
  },
  {
   "cell_type": "code",
   "execution_count": 2,
   "metadata": {},
   "outputs": [],
   "source": [
    "paginator = 0\n",
    "r = requests.get(f'https://br.indeed.com/empregos?q=cientista+de+dados&l=brasil&start={paginator}')\n",
    "page = BeautifulSoup(r.content, 'html.parser')"
   ]
  },
  {
   "cell_type": "code",
   "execution_count": 3,
   "metadata": {},
   "outputs": [
    {
     "data": {
      "text/plain": [
       "250"
      ]
     },
     "execution_count": 3,
     "metadata": {},
     "output_type": "execute_result"
    }
   ],
   "source": [
    "n_jobs = int(page.find(id='searchCountPages').text.split()[3])\n",
    "n_jobs"
   ]
  },
  {
   "cell_type": "markdown",
   "metadata": {},
   "source": [
    "# Get opportunity links"
   ]
  },
  {
   "cell_type": "code",
   "execution_count": 4,
   "metadata": {},
   "outputs": [],
   "source": [
    "job_links = []\n",
    "for i in range(0, n_jobs, 10):\n",
    "    r = requests.get(f'https://br.indeed.com/empregos?q=cientista+de+dados&l=brasil&start={i}')\n",
    "    page = BeautifulSoup(r.content, 'html.parser')\n",
    "    anchors = page.find_all('a', class_='jobtitle')\n",
    "    for a in anchors:\n",
    "        job_links.append('https://www.indeed.com' + a.get('href'))"
   ]
  },
  {
   "cell_type": "markdown",
   "metadata": {},
   "source": [
    "# Get list of job description"
   ]
  },
  {
   "cell_type": "code",
   "execution_count": 5,
   "metadata": {},
   "outputs": [],
   "source": [
    "job_description = []\n",
    "bad_attemps = []\n",
    "for link in job_links:\n",
    "    r = requests.get(link)\n",
    "    page = BeautifulSoup(r.content, 'html.parser')\n",
    "    try:\n",
    "        description = page.find('div', class_='jobsearch-jobDescriptionText').text.replace('\\n', ' ')\n",
    "    except:\n",
    "        bad_attemps.append(link)\n",
    "        continue\n",
    "    job_description.append(description)\n",
    "        \n",
    "for link in bad_attemps:\n",
    "    job_links.remove(link)"
   ]
  },
  {
   "cell_type": "code",
   "execution_count": 6,
   "metadata": {},
   "outputs": [
    {
     "name": "stdout",
     "output_type": "stream",
     "text": [
      "363\n",
      "363\n"
     ]
    }
   ],
   "source": [
    "print(len(job_links))\n",
    "print(len(job_description))"
   ]
  },
  {
   "cell_type": "code",
   "execution_count": 7,
   "metadata": {},
   "outputs": [],
   "source": [
    "jobs = pd.DataFrame({'URL': job_links, 'description': job_description})"
   ]
  },
  {
   "cell_type": "code",
   "execution_count": 10,
   "metadata": {},
   "outputs": [
    {
     "data": {
      "text/html": [
       "<div>\n",
       "<style scoped>\n",
       "    .dataframe tbody tr th:only-of-type {\n",
       "        vertical-align: middle;\n",
       "    }\n",
       "\n",
       "    .dataframe tbody tr th {\n",
       "        vertical-align: top;\n",
       "    }\n",
       "\n",
       "    .dataframe thead th {\n",
       "        text-align: right;\n",
       "    }\n",
       "</style>\n",
       "<table border=\"1\" class=\"dataframe\">\n",
       "  <thead>\n",
       "    <tr style=\"text-align: right;\">\n",
       "      <th></th>\n",
       "      <th>URL</th>\n",
       "      <th>description</th>\n",
       "    </tr>\n",
       "  </thead>\n",
       "  <tbody>\n",
       "    <tr>\n",
       "      <th>0</th>\n",
       "      <td>https://www.indeed.com/company/Postmetria/jobs...</td>\n",
       "      <td>atribuições atuar em demandas relacionadas pr...</td>\n",
       "    </tr>\n",
       "    <tr>\n",
       "      <th>1</th>\n",
       "      <td>https://www.indeed.com/rc/clk?jk=dd1788e91fc88...</td>\n",
       "      <td>profissional formado em exatas com interesse ...</td>\n",
       "    </tr>\n",
       "    <tr>\n",
       "      <th>2</th>\n",
       "      <td>https://www.indeed.com/rc/clk?jk=1ef88d6418dca...</td>\n",
       "      <td>conheça nossa banda inovadora diferente diver...</td>\n",
       "    </tr>\n",
       "    <tr>\n",
       "      <th>3</th>\n",
       "      <td>https://www.indeed.com/rc/clk?jk=6da90d3e35dc3...</td>\n",
       "      <td>nossa gente aqui na cervejaria ambev sonha gr...</td>\n",
       "    </tr>\n",
       "    <tr>\n",
       "      <th>4</th>\n",
       "      <td>https://www.indeed.com/rc/clk?jk=7689940b1824c...</td>\n",
       "      <td>vaga de um cliente da talentbrand descrição d...</td>\n",
       "    </tr>\n",
       "    <tr>\n",
       "      <th>...</th>\n",
       "      <td>...</td>\n",
       "      <td>...</td>\n",
       "    </tr>\n",
       "    <tr>\n",
       "      <th>358</th>\n",
       "      <td>https://www.indeed.com/rc/clk?jk=cc0f3f8cafc80...</td>\n",
       "      <td>eleflow nasceu para tornar big data analytics...</td>\n",
       "    </tr>\n",
       "    <tr>\n",
       "      <th>359</th>\n",
       "      <td>https://www.indeed.com/rc/clk?jk=85a3575bc36c0...</td>\n",
       "      <td>descrição da empresa descomplica uma platafor...</td>\n",
       "    </tr>\n",
       "    <tr>\n",
       "      <th>360</th>\n",
       "      <td>https://www.indeed.com/rc/clk?jk=061a8dd5c5308...</td>\n",
       "      <td>descomplica uma plataforma de educação digita...</td>\n",
       "    </tr>\n",
       "    <tr>\n",
       "      <th>361</th>\n",
       "      <td>https://www.indeed.com/rc/clk?jk=f94e4bea2baef...</td>\n",
       "      <td>atividades que você irá fazer produzir soluçõ...</td>\n",
       "    </tr>\n",
       "    <tr>\n",
       "      <th>362</th>\n",
       "      <td>https://www.indeed.com/rc/clk?jk=e65cb176dca08...</td>\n",
       "      <td>como você pode transformar brasil por meio da...</td>\n",
       "    </tr>\n",
       "  </tbody>\n",
       "</table>\n",
       "<p>363 rows × 2 columns</p>\n",
       "</div>"
      ],
      "text/plain": [
       "                                                   URL  \\\n",
       "0    https://www.indeed.com/company/Postmetria/jobs...   \n",
       "1    https://www.indeed.com/rc/clk?jk=dd1788e91fc88...   \n",
       "2    https://www.indeed.com/rc/clk?jk=1ef88d6418dca...   \n",
       "3    https://www.indeed.com/rc/clk?jk=6da90d3e35dc3...   \n",
       "4    https://www.indeed.com/rc/clk?jk=7689940b1824c...   \n",
       "..                                                 ...   \n",
       "358  https://www.indeed.com/rc/clk?jk=cc0f3f8cafc80...   \n",
       "359  https://www.indeed.com/rc/clk?jk=85a3575bc36c0...   \n",
       "360  https://www.indeed.com/rc/clk?jk=061a8dd5c5308...   \n",
       "361  https://www.indeed.com/rc/clk?jk=f94e4bea2baef...   \n",
       "362  https://www.indeed.com/rc/clk?jk=e65cb176dca08...   \n",
       "\n",
       "                                           description  \n",
       "0     atribuições atuar em demandas relacionadas pr...  \n",
       "1     profissional formado em exatas com interesse ...  \n",
       "2     conheça nossa banda inovadora diferente diver...  \n",
       "3     nossa gente aqui na cervejaria ambev sonha gr...  \n",
       "4     vaga de um cliente da talentbrand descrição d...  \n",
       "..                                                 ...  \n",
       "358   eleflow nasceu para tornar big data analytics...  \n",
       "359   descrição da empresa descomplica uma platafor...  \n",
       "360   descomplica uma plataforma de educação digita...  \n",
       "361   atividades que você irá fazer produzir soluçõ...  \n",
       "362   como você pode transformar brasil por meio da...  \n",
       "\n",
       "[363 rows x 2 columns]"
      ]
     },
     "execution_count": 10,
     "metadata": {},
     "output_type": "execute_result"
    }
   ],
   "source": [
    "symbols = \"!\\\"#$%&()*+-.,/:;<=>?@[\\]^_`{|}~\\n\"\n",
    "\n",
    "def remove_symbols(description):\n",
    "    for i in symbols:\n",
    "        description = description.replace(i, ' ')\n",
    "    return description\n",
    "\n",
    "def remove_singles(description):\n",
    "    new_text = \"\"\n",
    "    for word in description.split(' '):\n",
    "        if len(word) > 1:\n",
    "            new_text += \" \" + word\n",
    "    return new_text\n",
    "\n",
    "# transform to lowercase\n",
    "jobs['description'] = jobs['description'].apply(lambda x: x.lower())\n",
    "\n",
    "# removing the symbols\n",
    "jobs['description'] = jobs['description'].apply(lambda x: remove_symbols(x))\n",
    "\n",
    "# removing single characters\n",
    "jobs['description'] = jobs['description'].apply(lambda x: remove_singles(x))\n",
    "jobs"
   ]
  },
  {
   "cell_type": "markdown",
   "metadata": {},
   "source": [
    "# Tf_idf calc"
   ]
  },
  {
   "cell_type": "markdown",
   "metadata": {},
   "source": [
    "### Set of words in corpus"
   ]
  },
  {
   "cell_type": "code",
   "execution_count": 12,
   "metadata": {},
   "outputs": [],
   "source": [
    "words = []\n",
    "for description in jobs['description']:\n",
    "    for word in description.split(' '):\n",
    "        words.append(word.strip(symbols))\n",
    "word_set = set(words)\n",
    "word_set.remove('')"
   ]
  },
  {
   "cell_type": "markdown",
   "metadata": {},
   "source": [
    "### word counting"
   ]
  },
  {
   "cell_type": "code",
   "execution_count": 13,
   "metadata": {},
   "outputs": [],
   "source": [
    "def word_count(description):\n",
    "    word_dict = {}\n",
    "    for i in word_set:\n",
    "        word_dict[i] = description.count(i)\n",
    "    return word_dict"
   ]
  },
  {
   "cell_type": "code",
   "execution_count": 14,
   "metadata": {},
   "outputs": [
    {
     "data": {
      "text/html": [
       "<div>\n",
       "<style scoped>\n",
       "    .dataframe tbody tr th:only-of-type {\n",
       "        vertical-align: middle;\n",
       "    }\n",
       "\n",
       "    .dataframe tbody tr th {\n",
       "        vertical-align: top;\n",
       "    }\n",
       "\n",
       "    .dataframe thead th {\n",
       "        text-align: right;\n",
       "    }\n",
       "</style>\n",
       "<table border=\"1\" class=\"dataframe\">\n",
       "  <thead>\n",
       "    <tr style=\"text-align: right;\">\n",
       "      <th></th>\n",
       "      <th>URL</th>\n",
       "      <th>description</th>\n",
       "      <th>word_count</th>\n",
       "    </tr>\n",
       "  </thead>\n",
       "  <tbody>\n",
       "    <tr>\n",
       "      <th>0</th>\n",
       "      <td>https://www.indeed.com/company/Postmetria/jobs...</td>\n",
       "      <td>atribuições atuar em demandas relacionadas pr...</td>\n",
       "      <td>{'correta': 0, 'número': 0, 'hard': 0, 'marech...</td>\n",
       "    </tr>\n",
       "    <tr>\n",
       "      <th>1</th>\n",
       "      <td>https://www.indeed.com/rc/clk?jk=dd1788e91fc88...</td>\n",
       "      <td>profissional formado em exatas com interesse ...</td>\n",
       "      <td>{'correta': 0, 'número': 0, 'hard': 0, 'marech...</td>\n",
       "    </tr>\n",
       "    <tr>\n",
       "      <th>2</th>\n",
       "      <td>https://www.indeed.com/rc/clk?jk=1ef88d6418dca...</td>\n",
       "      <td>conheça nossa banda inovadora diferente diver...</td>\n",
       "      <td>{'correta': 0, 'número': 0, 'hard': 0, 'marech...</td>\n",
       "    </tr>\n",
       "    <tr>\n",
       "      <th>3</th>\n",
       "      <td>https://www.indeed.com/rc/clk?jk=6da90d3e35dc3...</td>\n",
       "      <td>nossa gente aqui na cervejaria ambev sonha gr...</td>\n",
       "      <td>{'correta': 0, 'número': 0, 'hard': 0, 'marech...</td>\n",
       "    </tr>\n",
       "    <tr>\n",
       "      <th>4</th>\n",
       "      <td>https://www.indeed.com/rc/clk?jk=7689940b1824c...</td>\n",
       "      <td>vaga de um cliente da talentbrand descrição d...</td>\n",
       "      <td>{'correta': 0, 'número': 0, 'hard': 0, 'marech...</td>\n",
       "    </tr>\n",
       "    <tr>\n",
       "      <th>...</th>\n",
       "      <td>...</td>\n",
       "      <td>...</td>\n",
       "      <td>...</td>\n",
       "    </tr>\n",
       "    <tr>\n",
       "      <th>358</th>\n",
       "      <td>https://www.indeed.com/rc/clk?jk=cc0f3f8cafc80...</td>\n",
       "      <td>eleflow nasceu para tornar big data analytics...</td>\n",
       "      <td>{'correta': 0, 'número': 0, 'hard': 0, 'marech...</td>\n",
       "    </tr>\n",
       "    <tr>\n",
       "      <th>359</th>\n",
       "      <td>https://www.indeed.com/rc/clk?jk=85a3575bc36c0...</td>\n",
       "      <td>descrição da empresa descomplica uma platafor...</td>\n",
       "      <td>{'correta': 0, 'número': 0, 'hard': 0, 'marech...</td>\n",
       "    </tr>\n",
       "    <tr>\n",
       "      <th>360</th>\n",
       "      <td>https://www.indeed.com/rc/clk?jk=061a8dd5c5308...</td>\n",
       "      <td>descomplica uma plataforma de educação digita...</td>\n",
       "      <td>{'correta': 0, 'número': 0, 'hard': 1, 'marech...</td>\n",
       "    </tr>\n",
       "    <tr>\n",
       "      <th>361</th>\n",
       "      <td>https://www.indeed.com/rc/clk?jk=f94e4bea2baef...</td>\n",
       "      <td>atividades que você irá fazer produzir soluçõ...</td>\n",
       "      <td>{'correta': 0, 'número': 0, 'hard': 0, 'marech...</td>\n",
       "    </tr>\n",
       "    <tr>\n",
       "      <th>362</th>\n",
       "      <td>https://www.indeed.com/rc/clk?jk=e65cb176dca08...</td>\n",
       "      <td>como você pode transformar brasil por meio da...</td>\n",
       "      <td>{'correta': 0, 'número': 0, 'hard': 0, 'marech...</td>\n",
       "    </tr>\n",
       "  </tbody>\n",
       "</table>\n",
       "<p>363 rows × 3 columns</p>\n",
       "</div>"
      ],
      "text/plain": [
       "                                                   URL  \\\n",
       "0    https://www.indeed.com/company/Postmetria/jobs...   \n",
       "1    https://www.indeed.com/rc/clk?jk=dd1788e91fc88...   \n",
       "2    https://www.indeed.com/rc/clk?jk=1ef88d6418dca...   \n",
       "3    https://www.indeed.com/rc/clk?jk=6da90d3e35dc3...   \n",
       "4    https://www.indeed.com/rc/clk?jk=7689940b1824c...   \n",
       "..                                                 ...   \n",
       "358  https://www.indeed.com/rc/clk?jk=cc0f3f8cafc80...   \n",
       "359  https://www.indeed.com/rc/clk?jk=85a3575bc36c0...   \n",
       "360  https://www.indeed.com/rc/clk?jk=061a8dd5c5308...   \n",
       "361  https://www.indeed.com/rc/clk?jk=f94e4bea2baef...   \n",
       "362  https://www.indeed.com/rc/clk?jk=e65cb176dca08...   \n",
       "\n",
       "                                           description  \\\n",
       "0     atribuições atuar em demandas relacionadas pr...   \n",
       "1     profissional formado em exatas com interesse ...   \n",
       "2     conheça nossa banda inovadora diferente diver...   \n",
       "3     nossa gente aqui na cervejaria ambev sonha gr...   \n",
       "4     vaga de um cliente da talentbrand descrição d...   \n",
       "..                                                 ...   \n",
       "358   eleflow nasceu para tornar big data analytics...   \n",
       "359   descrição da empresa descomplica uma platafor...   \n",
       "360   descomplica uma plataforma de educação digita...   \n",
       "361   atividades que você irá fazer produzir soluçõ...   \n",
       "362   como você pode transformar brasil por meio da...   \n",
       "\n",
       "                                            word_count  \n",
       "0    {'correta': 0, 'número': 0, 'hard': 0, 'marech...  \n",
       "1    {'correta': 0, 'número': 0, 'hard': 0, 'marech...  \n",
       "2    {'correta': 0, 'número': 0, 'hard': 0, 'marech...  \n",
       "3    {'correta': 0, 'número': 0, 'hard': 0, 'marech...  \n",
       "4    {'correta': 0, 'número': 0, 'hard': 0, 'marech...  \n",
       "..                                                 ...  \n",
       "358  {'correta': 0, 'número': 0, 'hard': 0, 'marech...  \n",
       "359  {'correta': 0, 'número': 0, 'hard': 0, 'marech...  \n",
       "360  {'correta': 0, 'número': 0, 'hard': 1, 'marech...  \n",
       "361  {'correta': 0, 'número': 0, 'hard': 0, 'marech...  \n",
       "362  {'correta': 0, 'número': 0, 'hard': 0, 'marech...  \n",
       "\n",
       "[363 rows x 3 columns]"
      ]
     },
     "execution_count": 14,
     "metadata": {},
     "output_type": "execute_result"
    }
   ],
   "source": [
    "jobs['word_count'] = jobs['description'].apply(word_count)\n",
    "jobs"
   ]
  },
  {
   "cell_type": "markdown",
   "metadata": {},
   "source": [
    "### Term frequencies in job description"
   ]
  },
  {
   "cell_type": "code",
   "execution_count": 15,
   "metadata": {},
   "outputs": [],
   "source": [
    "def tf(counter):\n",
    "    tf_dict = {}\n",
    "    counter_len = sum(counter.values())\n",
    "    for key, value in counter.items():\n",
    "        tf_dict[key] = value / counter_len\n",
    "    return tf_dict"
   ]
  },
  {
   "cell_type": "code",
   "execution_count": 16,
   "metadata": {},
   "outputs": [
    {
     "data": {
      "text/html": [
       "<div>\n",
       "<style scoped>\n",
       "    .dataframe tbody tr th:only-of-type {\n",
       "        vertical-align: middle;\n",
       "    }\n",
       "\n",
       "    .dataframe tbody tr th {\n",
       "        vertical-align: top;\n",
       "    }\n",
       "\n",
       "    .dataframe thead th {\n",
       "        text-align: right;\n",
       "    }\n",
       "</style>\n",
       "<table border=\"1\" class=\"dataframe\">\n",
       "  <thead>\n",
       "    <tr style=\"text-align: right;\">\n",
       "      <th></th>\n",
       "      <th>URL</th>\n",
       "      <th>description</th>\n",
       "      <th>word_count</th>\n",
       "      <th>tf</th>\n",
       "    </tr>\n",
       "  </thead>\n",
       "  <tbody>\n",
       "    <tr>\n",
       "      <th>0</th>\n",
       "      <td>https://www.indeed.com/company/Postmetria/jobs...</td>\n",
       "      <td>atribuições atuar em demandas relacionadas pr...</td>\n",
       "      <td>{'correta': 0, 'número': 0, 'hard': 0, 'marech...</td>\n",
       "      <td>{'correta': 0.0, 'número': 0.0, 'hard': 0.0, '...</td>\n",
       "    </tr>\n",
       "    <tr>\n",
       "      <th>1</th>\n",
       "      <td>https://www.indeed.com/rc/clk?jk=dd1788e91fc88...</td>\n",
       "      <td>profissional formado em exatas com interesse ...</td>\n",
       "      <td>{'correta': 0, 'número': 0, 'hard': 0, 'marech...</td>\n",
       "      <td>{'correta': 0.0, 'número': 0.0, 'hard': 0.0, '...</td>\n",
       "    </tr>\n",
       "    <tr>\n",
       "      <th>2</th>\n",
       "      <td>https://www.indeed.com/rc/clk?jk=1ef88d6418dca...</td>\n",
       "      <td>conheça nossa banda inovadora diferente diver...</td>\n",
       "      <td>{'correta': 0, 'número': 0, 'hard': 0, 'marech...</td>\n",
       "      <td>{'correta': 0.0, 'número': 0.0, 'hard': 0.0, '...</td>\n",
       "    </tr>\n",
       "    <tr>\n",
       "      <th>3</th>\n",
       "      <td>https://www.indeed.com/rc/clk?jk=6da90d3e35dc3...</td>\n",
       "      <td>nossa gente aqui na cervejaria ambev sonha gr...</td>\n",
       "      <td>{'correta': 0, 'número': 0, 'hard': 0, 'marech...</td>\n",
       "      <td>{'correta': 0.0, 'número': 0.0, 'hard': 0.0, '...</td>\n",
       "    </tr>\n",
       "    <tr>\n",
       "      <th>4</th>\n",
       "      <td>https://www.indeed.com/rc/clk?jk=7689940b1824c...</td>\n",
       "      <td>vaga de um cliente da talentbrand descrição d...</td>\n",
       "      <td>{'correta': 0, 'número': 0, 'hard': 0, 'marech...</td>\n",
       "      <td>{'correta': 0.0, 'número': 0.0, 'hard': 0.0, '...</td>\n",
       "    </tr>\n",
       "    <tr>\n",
       "      <th>...</th>\n",
       "      <td>...</td>\n",
       "      <td>...</td>\n",
       "      <td>...</td>\n",
       "      <td>...</td>\n",
       "    </tr>\n",
       "    <tr>\n",
       "      <th>358</th>\n",
       "      <td>https://www.indeed.com/rc/clk?jk=cc0f3f8cafc80...</td>\n",
       "      <td>eleflow nasceu para tornar big data analytics...</td>\n",
       "      <td>{'correta': 0, 'número': 0, 'hard': 0, 'marech...</td>\n",
       "      <td>{'correta': 0.0, 'número': 0.0, 'hard': 0.0, '...</td>\n",
       "    </tr>\n",
       "    <tr>\n",
       "      <th>359</th>\n",
       "      <td>https://www.indeed.com/rc/clk?jk=85a3575bc36c0...</td>\n",
       "      <td>descrição da empresa descomplica uma platafor...</td>\n",
       "      <td>{'correta': 0, 'número': 0, 'hard': 0, 'marech...</td>\n",
       "      <td>{'correta': 0.0, 'número': 0.0, 'hard': 0.0, '...</td>\n",
       "    </tr>\n",
       "    <tr>\n",
       "      <th>360</th>\n",
       "      <td>https://www.indeed.com/rc/clk?jk=061a8dd5c5308...</td>\n",
       "      <td>descomplica uma plataforma de educação digita...</td>\n",
       "      <td>{'correta': 0, 'número': 0, 'hard': 1, 'marech...</td>\n",
       "      <td>{'correta': 0.0, 'número': 0.0, 'hard': 0.0003...</td>\n",
       "    </tr>\n",
       "    <tr>\n",
       "      <th>361</th>\n",
       "      <td>https://www.indeed.com/rc/clk?jk=f94e4bea2baef...</td>\n",
       "      <td>atividades que você irá fazer produzir soluçõ...</td>\n",
       "      <td>{'correta': 0, 'número': 0, 'hard': 0, 'marech...</td>\n",
       "      <td>{'correta': 0.0, 'número': 0.0, 'hard': 0.0, '...</td>\n",
       "    </tr>\n",
       "    <tr>\n",
       "      <th>362</th>\n",
       "      <td>https://www.indeed.com/rc/clk?jk=e65cb176dca08...</td>\n",
       "      <td>como você pode transformar brasil por meio da...</td>\n",
       "      <td>{'correta': 0, 'número': 0, 'hard': 0, 'marech...</td>\n",
       "      <td>{'correta': 0.0, 'número': 0.0, 'hard': 0.0, '...</td>\n",
       "    </tr>\n",
       "  </tbody>\n",
       "</table>\n",
       "<p>363 rows × 4 columns</p>\n",
       "</div>"
      ],
      "text/plain": [
       "                                                   URL  \\\n",
       "0    https://www.indeed.com/company/Postmetria/jobs...   \n",
       "1    https://www.indeed.com/rc/clk?jk=dd1788e91fc88...   \n",
       "2    https://www.indeed.com/rc/clk?jk=1ef88d6418dca...   \n",
       "3    https://www.indeed.com/rc/clk?jk=6da90d3e35dc3...   \n",
       "4    https://www.indeed.com/rc/clk?jk=7689940b1824c...   \n",
       "..                                                 ...   \n",
       "358  https://www.indeed.com/rc/clk?jk=cc0f3f8cafc80...   \n",
       "359  https://www.indeed.com/rc/clk?jk=85a3575bc36c0...   \n",
       "360  https://www.indeed.com/rc/clk?jk=061a8dd5c5308...   \n",
       "361  https://www.indeed.com/rc/clk?jk=f94e4bea2baef...   \n",
       "362  https://www.indeed.com/rc/clk?jk=e65cb176dca08...   \n",
       "\n",
       "                                           description  \\\n",
       "0     atribuições atuar em demandas relacionadas pr...   \n",
       "1     profissional formado em exatas com interesse ...   \n",
       "2     conheça nossa banda inovadora diferente diver...   \n",
       "3     nossa gente aqui na cervejaria ambev sonha gr...   \n",
       "4     vaga de um cliente da talentbrand descrição d...   \n",
       "..                                                 ...   \n",
       "358   eleflow nasceu para tornar big data analytics...   \n",
       "359   descrição da empresa descomplica uma platafor...   \n",
       "360   descomplica uma plataforma de educação digita...   \n",
       "361   atividades que você irá fazer produzir soluçõ...   \n",
       "362   como você pode transformar brasil por meio da...   \n",
       "\n",
       "                                            word_count  \\\n",
       "0    {'correta': 0, 'número': 0, 'hard': 0, 'marech...   \n",
       "1    {'correta': 0, 'número': 0, 'hard': 0, 'marech...   \n",
       "2    {'correta': 0, 'número': 0, 'hard': 0, 'marech...   \n",
       "3    {'correta': 0, 'número': 0, 'hard': 0, 'marech...   \n",
       "4    {'correta': 0, 'número': 0, 'hard': 0, 'marech...   \n",
       "..                                                 ...   \n",
       "358  {'correta': 0, 'número': 0, 'hard': 0, 'marech...   \n",
       "359  {'correta': 0, 'número': 0, 'hard': 0, 'marech...   \n",
       "360  {'correta': 0, 'número': 0, 'hard': 1, 'marech...   \n",
       "361  {'correta': 0, 'número': 0, 'hard': 0, 'marech...   \n",
       "362  {'correta': 0, 'número': 0, 'hard': 0, 'marech...   \n",
       "\n",
       "                                                    tf  \n",
       "0    {'correta': 0.0, 'número': 0.0, 'hard': 0.0, '...  \n",
       "1    {'correta': 0.0, 'número': 0.0, 'hard': 0.0, '...  \n",
       "2    {'correta': 0.0, 'número': 0.0, 'hard': 0.0, '...  \n",
       "3    {'correta': 0.0, 'número': 0.0, 'hard': 0.0, '...  \n",
       "4    {'correta': 0.0, 'número': 0.0, 'hard': 0.0, '...  \n",
       "..                                                 ...  \n",
       "358  {'correta': 0.0, 'número': 0.0, 'hard': 0.0, '...  \n",
       "359  {'correta': 0.0, 'número': 0.0, 'hard': 0.0, '...  \n",
       "360  {'correta': 0.0, 'número': 0.0, 'hard': 0.0003...  \n",
       "361  {'correta': 0.0, 'número': 0.0, 'hard': 0.0, '...  \n",
       "362  {'correta': 0.0, 'número': 0.0, 'hard': 0.0, '...  \n",
       "\n",
       "[363 rows x 4 columns]"
      ]
     },
     "execution_count": 16,
     "metadata": {},
     "output_type": "execute_result"
    }
   ],
   "source": [
    "jobs['tf'] = jobs['word_count'].apply(tf)\n",
    "jobs"
   ]
  },
  {
   "cell_type": "markdown",
   "metadata": {},
   "source": [
    "### Inverse Document Frequencies"
   ]
  },
  {
   "cell_type": "code",
   "execution_count": 17,
   "metadata": {},
   "outputs": [],
   "source": [
    "doc_freq = {}\n",
    "for word in word_set:\n",
    "    doc_freq[word] = 0\n",
    "\n",
    "for word in word_set:\n",
    "    for word_count in jobs['word_count']:\n",
    "        if word_count[word] != 0:\n",
    "            doc_freq[word] += 1"
   ]
  },
  {
   "cell_type": "code",
   "execution_count": 18,
   "metadata": {},
   "outputs": [],
   "source": [
    "idf = {}\n",
    "for word, freq in doc_freq.items():\n",
    "    idf[word] = math.log(len(jobs)/(1 + freq))"
   ]
  },
  {
   "cell_type": "markdown",
   "metadata": {},
   "source": [
    "### TF-IDF calc"
   ]
  },
  {
   "cell_type": "code",
   "execution_count": 19,
   "metadata": {},
   "outputs": [],
   "source": [
    "def tfidf_calc(tf):\n",
    "    tfidf = {}\n",
    "    for word in tf.keys():\n",
    "        tfidf[word] = tf[word] * idf[word]\n",
    "    return tfidf"
   ]
  },
  {
   "cell_type": "code",
   "execution_count": 20,
   "metadata": {},
   "outputs": [
    {
     "data": {
      "text/html": [
       "<div>\n",
       "<style scoped>\n",
       "    .dataframe tbody tr th:only-of-type {\n",
       "        vertical-align: middle;\n",
       "    }\n",
       "\n",
       "    .dataframe tbody tr th {\n",
       "        vertical-align: top;\n",
       "    }\n",
       "\n",
       "    .dataframe thead th {\n",
       "        text-align: right;\n",
       "    }\n",
       "</style>\n",
       "<table border=\"1\" class=\"dataframe\">\n",
       "  <thead>\n",
       "    <tr style=\"text-align: right;\">\n",
       "      <th></th>\n",
       "      <th>URL</th>\n",
       "      <th>description</th>\n",
       "      <th>word_count</th>\n",
       "      <th>tf</th>\n",
       "      <th>tfidf</th>\n",
       "    </tr>\n",
       "  </thead>\n",
       "  <tbody>\n",
       "    <tr>\n",
       "      <th>0</th>\n",
       "      <td>https://www.indeed.com/company/Postmetria/jobs...</td>\n",
       "      <td>atribuições atuar em demandas relacionadas pr...</td>\n",
       "      <td>{'correta': 0, 'número': 0, 'hard': 0, 'marech...</td>\n",
       "      <td>{'correta': 0.0, 'número': 0.0, 'hard': 0.0, '...</td>\n",
       "      <td>{'correta': 0.0, 'número': 0.0, 'hard': 0.0, '...</td>\n",
       "    </tr>\n",
       "    <tr>\n",
       "      <th>1</th>\n",
       "      <td>https://www.indeed.com/rc/clk?jk=dd1788e91fc88...</td>\n",
       "      <td>profissional formado em exatas com interesse ...</td>\n",
       "      <td>{'correta': 0, 'número': 0, 'hard': 0, 'marech...</td>\n",
       "      <td>{'correta': 0.0, 'número': 0.0, 'hard': 0.0, '...</td>\n",
       "      <td>{'correta': 0.0, 'número': 0.0, 'hard': 0.0, '...</td>\n",
       "    </tr>\n",
       "    <tr>\n",
       "      <th>2</th>\n",
       "      <td>https://www.indeed.com/rc/clk?jk=1ef88d6418dca...</td>\n",
       "      <td>conheça nossa banda inovadora diferente diver...</td>\n",
       "      <td>{'correta': 0, 'número': 0, 'hard': 0, 'marech...</td>\n",
       "      <td>{'correta': 0.0, 'número': 0.0, 'hard': 0.0, '...</td>\n",
       "      <td>{'correta': 0.0, 'número': 0.0, 'hard': 0.0, '...</td>\n",
       "    </tr>\n",
       "    <tr>\n",
       "      <th>3</th>\n",
       "      <td>https://www.indeed.com/rc/clk?jk=6da90d3e35dc3...</td>\n",
       "      <td>nossa gente aqui na cervejaria ambev sonha gr...</td>\n",
       "      <td>{'correta': 0, 'número': 0, 'hard': 0, 'marech...</td>\n",
       "      <td>{'correta': 0.0, 'número': 0.0, 'hard': 0.0, '...</td>\n",
       "      <td>{'correta': 0.0, 'número': 0.0, 'hard': 0.0, '...</td>\n",
       "    </tr>\n",
       "    <tr>\n",
       "      <th>4</th>\n",
       "      <td>https://www.indeed.com/rc/clk?jk=7689940b1824c...</td>\n",
       "      <td>vaga de um cliente da talentbrand descrição d...</td>\n",
       "      <td>{'correta': 0, 'número': 0, 'hard': 0, 'marech...</td>\n",
       "      <td>{'correta': 0.0, 'número': 0.0, 'hard': 0.0, '...</td>\n",
       "      <td>{'correta': 0.0, 'número': 0.0, 'hard': 0.0, '...</td>\n",
       "    </tr>\n",
       "    <tr>\n",
       "      <th>...</th>\n",
       "      <td>...</td>\n",
       "      <td>...</td>\n",
       "      <td>...</td>\n",
       "      <td>...</td>\n",
       "      <td>...</td>\n",
       "    </tr>\n",
       "    <tr>\n",
       "      <th>358</th>\n",
       "      <td>https://www.indeed.com/rc/clk?jk=cc0f3f8cafc80...</td>\n",
       "      <td>eleflow nasceu para tornar big data analytics...</td>\n",
       "      <td>{'correta': 0, 'número': 0, 'hard': 0, 'marech...</td>\n",
       "      <td>{'correta': 0.0, 'número': 0.0, 'hard': 0.0, '...</td>\n",
       "      <td>{'correta': 0.0, 'número': 0.0, 'hard': 0.0, '...</td>\n",
       "    </tr>\n",
       "    <tr>\n",
       "      <th>359</th>\n",
       "      <td>https://www.indeed.com/rc/clk?jk=85a3575bc36c0...</td>\n",
       "      <td>descrição da empresa descomplica uma platafor...</td>\n",
       "      <td>{'correta': 0, 'número': 0, 'hard': 0, 'marech...</td>\n",
       "      <td>{'correta': 0.0, 'número': 0.0, 'hard': 0.0, '...</td>\n",
       "      <td>{'correta': 0.0, 'número': 0.0, 'hard': 0.0, '...</td>\n",
       "    </tr>\n",
       "    <tr>\n",
       "      <th>360</th>\n",
       "      <td>https://www.indeed.com/rc/clk?jk=061a8dd5c5308...</td>\n",
       "      <td>descomplica uma plataforma de educação digita...</td>\n",
       "      <td>{'correta': 0, 'número': 0, 'hard': 1, 'marech...</td>\n",
       "      <td>{'correta': 0.0, 'número': 0.0, 'hard': 0.0003...</td>\n",
       "      <td>{'correta': 0.0, 'número': 0.0, 'hard': 0.0012...</td>\n",
       "    </tr>\n",
       "    <tr>\n",
       "      <th>361</th>\n",
       "      <td>https://www.indeed.com/rc/clk?jk=f94e4bea2baef...</td>\n",
       "      <td>atividades que você irá fazer produzir soluçõ...</td>\n",
       "      <td>{'correta': 0, 'número': 0, 'hard': 0, 'marech...</td>\n",
       "      <td>{'correta': 0.0, 'número': 0.0, 'hard': 0.0, '...</td>\n",
       "      <td>{'correta': 0.0, 'número': 0.0, 'hard': 0.0, '...</td>\n",
       "    </tr>\n",
       "    <tr>\n",
       "      <th>362</th>\n",
       "      <td>https://www.indeed.com/rc/clk?jk=e65cb176dca08...</td>\n",
       "      <td>como você pode transformar brasil por meio da...</td>\n",
       "      <td>{'correta': 0, 'número': 0, 'hard': 0, 'marech...</td>\n",
       "      <td>{'correta': 0.0, 'número': 0.0, 'hard': 0.0, '...</td>\n",
       "      <td>{'correta': 0.0, 'número': 0.0, 'hard': 0.0, '...</td>\n",
       "    </tr>\n",
       "  </tbody>\n",
       "</table>\n",
       "<p>363 rows × 5 columns</p>\n",
       "</div>"
      ],
      "text/plain": [
       "                                                   URL  \\\n",
       "0    https://www.indeed.com/company/Postmetria/jobs...   \n",
       "1    https://www.indeed.com/rc/clk?jk=dd1788e91fc88...   \n",
       "2    https://www.indeed.com/rc/clk?jk=1ef88d6418dca...   \n",
       "3    https://www.indeed.com/rc/clk?jk=6da90d3e35dc3...   \n",
       "4    https://www.indeed.com/rc/clk?jk=7689940b1824c...   \n",
       "..                                                 ...   \n",
       "358  https://www.indeed.com/rc/clk?jk=cc0f3f8cafc80...   \n",
       "359  https://www.indeed.com/rc/clk?jk=85a3575bc36c0...   \n",
       "360  https://www.indeed.com/rc/clk?jk=061a8dd5c5308...   \n",
       "361  https://www.indeed.com/rc/clk?jk=f94e4bea2baef...   \n",
       "362  https://www.indeed.com/rc/clk?jk=e65cb176dca08...   \n",
       "\n",
       "                                           description  \\\n",
       "0     atribuições atuar em demandas relacionadas pr...   \n",
       "1     profissional formado em exatas com interesse ...   \n",
       "2     conheça nossa banda inovadora diferente diver...   \n",
       "3     nossa gente aqui na cervejaria ambev sonha gr...   \n",
       "4     vaga de um cliente da talentbrand descrição d...   \n",
       "..                                                 ...   \n",
       "358   eleflow nasceu para tornar big data analytics...   \n",
       "359   descrição da empresa descomplica uma platafor...   \n",
       "360   descomplica uma plataforma de educação digita...   \n",
       "361   atividades que você irá fazer produzir soluçõ...   \n",
       "362   como você pode transformar brasil por meio da...   \n",
       "\n",
       "                                            word_count  \\\n",
       "0    {'correta': 0, 'número': 0, 'hard': 0, 'marech...   \n",
       "1    {'correta': 0, 'número': 0, 'hard': 0, 'marech...   \n",
       "2    {'correta': 0, 'número': 0, 'hard': 0, 'marech...   \n",
       "3    {'correta': 0, 'número': 0, 'hard': 0, 'marech...   \n",
       "4    {'correta': 0, 'número': 0, 'hard': 0, 'marech...   \n",
       "..                                                 ...   \n",
       "358  {'correta': 0, 'número': 0, 'hard': 0, 'marech...   \n",
       "359  {'correta': 0, 'número': 0, 'hard': 0, 'marech...   \n",
       "360  {'correta': 0, 'número': 0, 'hard': 1, 'marech...   \n",
       "361  {'correta': 0, 'número': 0, 'hard': 0, 'marech...   \n",
       "362  {'correta': 0, 'número': 0, 'hard': 0, 'marech...   \n",
       "\n",
       "                                                    tf  \\\n",
       "0    {'correta': 0.0, 'número': 0.0, 'hard': 0.0, '...   \n",
       "1    {'correta': 0.0, 'número': 0.0, 'hard': 0.0, '...   \n",
       "2    {'correta': 0.0, 'número': 0.0, 'hard': 0.0, '...   \n",
       "3    {'correta': 0.0, 'número': 0.0, 'hard': 0.0, '...   \n",
       "4    {'correta': 0.0, 'número': 0.0, 'hard': 0.0, '...   \n",
       "..                                                 ...   \n",
       "358  {'correta': 0.0, 'número': 0.0, 'hard': 0.0, '...   \n",
       "359  {'correta': 0.0, 'número': 0.0, 'hard': 0.0, '...   \n",
       "360  {'correta': 0.0, 'número': 0.0, 'hard': 0.0003...   \n",
       "361  {'correta': 0.0, 'número': 0.0, 'hard': 0.0, '...   \n",
       "362  {'correta': 0.0, 'número': 0.0, 'hard': 0.0, '...   \n",
       "\n",
       "                                                 tfidf  \n",
       "0    {'correta': 0.0, 'número': 0.0, 'hard': 0.0, '...  \n",
       "1    {'correta': 0.0, 'número': 0.0, 'hard': 0.0, '...  \n",
       "2    {'correta': 0.0, 'número': 0.0, 'hard': 0.0, '...  \n",
       "3    {'correta': 0.0, 'número': 0.0, 'hard': 0.0, '...  \n",
       "4    {'correta': 0.0, 'número': 0.0, 'hard': 0.0, '...  \n",
       "..                                                 ...  \n",
       "358  {'correta': 0.0, 'número': 0.0, 'hard': 0.0, '...  \n",
       "359  {'correta': 0.0, 'número': 0.0, 'hard': 0.0, '...  \n",
       "360  {'correta': 0.0, 'número': 0.0, 'hard': 0.0012...  \n",
       "361  {'correta': 0.0, 'número': 0.0, 'hard': 0.0, '...  \n",
       "362  {'correta': 0.0, 'número': 0.0, 'hard': 0.0, '...  \n",
       "\n",
       "[363 rows x 5 columns]"
      ]
     },
     "execution_count": 20,
     "metadata": {},
     "output_type": "execute_result"
    }
   ],
   "source": [
    "jobs['tfidf'] = jobs['tf'].apply(tfidf_calc)\n",
    "jobs"
   ]
  },
  {
   "cell_type": "markdown",
   "metadata": {},
   "source": [
    "# Most important words of all jobs"
   ]
  },
  {
   "cell_type": "code",
   "execution_count": 21,
   "metadata": {},
   "outputs": [],
   "source": [
    "word_importance = {}"
   ]
  },
  {
   "cell_type": "code",
   "execution_count": 22,
   "metadata": {},
   "outputs": [],
   "source": [
    "for word in word_set:\n",
    "    word_importance[word] = 0"
   ]
  },
  {
   "cell_type": "code",
   "execution_count": 23,
   "metadata": {},
   "outputs": [],
   "source": [
    "for tfidf in jobs['tfidf']:\n",
    "    for word, importance in word_importance.items():\n",
    "        word_importance[word] += tfidf[word]"
   ]
  },
  {
   "cell_type": "code",
   "execution_count": 24,
   "metadata": {},
   "outputs": [
    {
     "data": {
      "text/html": [
       "<div>\n",
       "<style scoped>\n",
       "    .dataframe tbody tr th:only-of-type {\n",
       "        vertical-align: middle;\n",
       "    }\n",
       "\n",
       "    .dataframe tbody tr th {\n",
       "        vertical-align: top;\n",
       "    }\n",
       "\n",
       "    .dataframe thead th {\n",
       "        text-align: right;\n",
       "    }\n",
       "</style>\n",
       "<table border=\"1\" class=\"dataframe\">\n",
       "  <thead>\n",
       "    <tr style=\"text-align: right;\">\n",
       "      <th></th>\n",
       "      <th>word</th>\n",
       "      <th>importance</th>\n",
       "    </tr>\n",
       "  </thead>\n",
       "  <tbody>\n",
       "    <tr>\n",
       "      <th>1274</th>\n",
       "      <td>learning</td>\n",
       "      <td>0.329360</td>\n",
       "    </tr>\n",
       "    <tr>\n",
       "      <th>6648</th>\n",
       "      <td>learn</td>\n",
       "      <td>0.292820</td>\n",
       "    </tr>\n",
       "    <tr>\n",
       "      <th>4255</th>\n",
       "      <td>machine</td>\n",
       "      <td>0.290123</td>\n",
       "    </tr>\n",
       "    <tr>\n",
       "      <th>4450</th>\n",
       "      <td>vale</td>\n",
       "      <td>0.288029</td>\n",
       "    </tr>\n",
       "    <tr>\n",
       "      <th>5420</th>\n",
       "      <td>modelo</td>\n",
       "      <td>0.282490</td>\n",
       "    </tr>\n",
       "    <tr>\n",
       "      <th>189</th>\n",
       "      <td>you</td>\n",
       "      <td>0.275352</td>\n",
       "    </tr>\n",
       "    <tr>\n",
       "      <th>4816</th>\n",
       "      <td>marketing</td>\n",
       "      <td>0.275000</td>\n",
       "    </tr>\n",
       "    <tr>\n",
       "      <th>2772</th>\n",
       "      <td>market</td>\n",
       "      <td>0.270557</td>\n",
       "    </tr>\n",
       "    <tr>\n",
       "      <th>3308</th>\n",
       "      <td>modelos</td>\n",
       "      <td>0.257906</td>\n",
       "    </tr>\n",
       "    <tr>\n",
       "      <th>3225</th>\n",
       "      <td>mode</td>\n",
       "      <td>0.253661</td>\n",
       "    </tr>\n",
       "  </tbody>\n",
       "</table>\n",
       "</div>"
      ],
      "text/plain": [
       "           word  importance\n",
       "1274   learning    0.329360\n",
       "6648      learn    0.292820\n",
       "4255    machine    0.290123\n",
       "4450       vale    0.288029\n",
       "5420     modelo    0.282490\n",
       "189         you    0.275352\n",
       "4816  marketing    0.275000\n",
       "2772     market    0.270557\n",
       "3308    modelos    0.257906\n",
       "3225       mode    0.253661"
      ]
     },
     "execution_count": 24,
     "metadata": {},
     "output_type": "execute_result"
    }
   ],
   "source": [
    "df_importance = pd.DataFrame({'word': word_importance.keys(), 'importance': word_importance.values()})\n",
    "df_importance.sort_values(['importance'], ascending=False).head(10)"
   ]
  },
  {
   "cell_type": "markdown",
   "metadata": {},
   "source": [
    "# Retrieving 10 bests job for user enter"
   ]
  },
  {
   "cell_type": "code",
   "execution_count": 74,
   "metadata": {},
   "outputs": [
    {
     "data": {
      "text/plain": [
       "['conhecimentos',\n",
       " 'em',\n",
       " 'programação',\n",
       " 'python',\n",
       " 'turicreate',\n",
       " 'sklearn',\n",
       " 'pandas',\n",
       " 'numpy',\n",
       " 'analytics',\n",
       " 'machine',\n",
       " 'learning',\n",
       " 'criação',\n",
       " 'de',\n",
       " 'modelos',\n",
       " 'preditivos',\n",
       " 'conhecimentos',\n",
       " 'básicos',\n",
       " 'em',\n",
       " 'sql',\n",
       " 'e',\n",
       " 'bancos',\n",
       " 'de',\n",
       " 'dados',\n",
       " 'relacionais',\n",
       " 'e',\n",
       " 'não',\n",
       " 'relacionais']"
      ]
     },
     "execution_count": 74,
     "metadata": {},
     "output_type": "execute_result"
    }
   ],
   "source": [
    "user_enter = 'Conhecimentos em programação, python, turicreate, Sklearn, pandas, numpy,\\\n",
    "analytics, machine learning, criação de modelos preditivos.\\\n",
    "Conhecimentos básicos em sql, e bancos de dados relacionais e não relacionais.'\n",
    "user_enter_filtered = remove_symbols(user_enter.lower())\n",
    "user_enter_words = []\n",
    "for i in user_enter_filtered.split(' '):\n",
    "    if i != '':\n",
    "        user_enter_words.append(i)\n",
    "user_enter_words"
   ]
  },
  {
   "cell_type": "markdown",
   "metadata": {},
   "source": [
    "### Exctract user enter vector"
   ]
  },
  {
   "cell_type": "code",
   "execution_count": 75,
   "metadata": {},
   "outputs": [],
   "source": [
    "user_enter_count = {}\n",
    "for word in jobs['tfidf'][0].keys():\n",
    "    user_enter_count[word] = 0"
   ]
  },
  {
   "cell_type": "code",
   "execution_count": 76,
   "metadata": {},
   "outputs": [
    {
     "data": {
      "text/plain": [
       "1"
      ]
     },
     "execution_count": 76,
     "metadata": {},
     "output_type": "execute_result"
    }
   ],
   "source": [
    "for word in user_enter_words:\n",
    "    try:\n",
    "        user_enter_count[word] += 1\n",
    "    except:\n",
    "        continue\n",
    "user_enter_count['machine']"
   ]
  },
  {
   "cell_type": "code",
   "execution_count": 77,
   "metadata": {},
   "outputs": [],
   "source": [
    "def cosine_similarity(tfidf):\n",
    "    tfidf_vec = np.array(list(tfidf.values()))\n",
    "    user_vec = np.array(list(user_enter_count.values()))\n",
    "    sim = (tfidf_vec.dot(user_vec))/np.linalg.norm(tfidf_vec)*np.linalg.norm(user_vec)\n",
    "    return sim"
   ]
  },
  {
   "cell_type": "code",
   "execution_count": 78,
   "metadata": {},
   "outputs": [],
   "source": [
    "jobs['cos_sim'] = jobs['tfidf'].apply(cosine_similarity)"
   ]
  },
  {
   "cell_type": "code",
   "execution_count": 79,
   "metadata": {},
   "outputs": [],
   "source": [
    "response = jobs.sort_values('cos_sim', ascending=False)[:10]"
   ]
  },
  {
   "cell_type": "code",
   "execution_count": 80,
   "metadata": {},
   "outputs": [
    {
     "name": "stdout",
     "output_type": "stream",
     "text": [
      "https://www.indeed.com/rc/clk?jk=64f439f63486103e&fccid=114efd88673ee90c&vjs=3\n",
      "https://www.indeed.com/rc/clk?jk=71c0f9b52237a117&fccid=f278fd54bec2ca13&vjs=3\n",
      "https://www.indeed.com/rc/clk?jk=2a04ebcc77ab5d65&fccid=b1def06b42bdc2ee&vjs=3\n",
      "https://www.indeed.com/rc/clk?jk=1fb984ea3bddae0b&fccid=e5ea1ff710ce39ca&vjs=3\n",
      "https://www.indeed.com/rc/clk?jk=47f4fad745bf9b9d&fccid=c010d2c764def3f0&vjs=3\n",
      "https://www.indeed.com/rc/clk?jk=4ceffbe09706b379&fccid=c010d2c764def3f0&vjs=3\n",
      "https://www.indeed.com/rc/clk?jk=0b4d88427aadc527&fccid=1abbffd7f44ec1e9&vjs=3\n",
      "https://www.indeed.com/rc/clk?jk=c6fb76f38201c168&fccid=4bbf7251d41a576b&vjs=3\n",
      "https://www.indeed.com/rc/clk?jk=3a722edb8332739a&fccid=22d7ce555383096d&vjs=3\n",
      "https://www.indeed.com/rc/clk?jk=3a722edb8332739a&fccid=22d7ce555383096d&vjs=3\n"
     ]
    }
   ],
   "source": [
    "for i in response['URL']:\n",
    "    print(i)"
   ]
  }
 ],
 "metadata": {
  "kernelspec": {
   "display_name": "Python 3",
   "language": "python",
   "name": "python3"
  },
  "language_info": {
   "codemirror_mode": {
    "name": "ipython",
    "version": 3
   },
   "file_extension": ".py",
   "mimetype": "text/x-python",
   "name": "python",
   "nbconvert_exporter": "python",
   "pygments_lexer": "ipython3",
   "version": "3.8.5"
  }
 },
 "nbformat": 4,
 "nbformat_minor": 4
}
